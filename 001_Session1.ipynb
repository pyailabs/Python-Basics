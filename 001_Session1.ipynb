{
  "nbformat": 4,
  "nbformat_minor": 0,
  "metadata": {
    "colab": {
      "provenance": [],
      "authorship_tag": "ABX9TyPJH3jKqELlwGDz9eWa5m3G",
      "include_colab_link": true
    },
    "kernelspec": {
      "name": "python3",
      "display_name": "Python 3"
    },
    "language_info": {
      "name": "python"
    }
  },
  "cells": [
    {
      "cell_type": "markdown",
      "metadata": {
        "id": "view-in-github",
        "colab_type": "text"
      },
      "source": [
        "<a href=\"https://colab.research.google.com/github/pyailabs/Python-Basics/blob/main/001_Session1.ipynb\" target=\"_parent\"><img src=\"https://colab.research.google.com/assets/colab-badge.svg\" alt=\"Open In Colab\"/></a>"
      ]
    },
    {
      "cell_type": "code",
      "execution_count": 2,
      "metadata": {
        "colab": {
          "base_uri": "https://localhost:8080/"
        },
        "id": "XiWKOmR7lvvu",
        "outputId": "af4432e5-0ef4-4c96-b05d-b2a930d122a3"
      },
      "outputs": [
        {
          "output_type": "stream",
          "name": "stdout",
          "text": [
            "Hello, Wrold... !!!!\n"
          ]
        }
      ],
      "source": [
        "print(\"Hello, Wrold... !!!!\")"
      ]
    },
    {
      "cell_type": "code",
      "source": [
        "2 + 2 # addition"
      ],
      "metadata": {
        "colab": {
          "base_uri": "https://localhost:8080/"
        },
        "id": "O-MBbNx_mAun",
        "outputId": "ac7ab259-5564-4463-9b94-8ac56dd5ed7a"
      },
      "execution_count": 4,
      "outputs": [
        {
          "output_type": "execute_result",
          "data": {
            "text/plain": [
              "4"
            ]
          },
          "metadata": {},
          "execution_count": 4
        }
      ]
    },
    {
      "cell_type": "code",
      "source": [
        "5 - 2 # Subtraction"
      ],
      "metadata": {
        "colab": {
          "base_uri": "https://localhost:8080/"
        },
        "id": "Q2irskJrmgvr",
        "outputId": "a18f9344-3863-499e-923f-a256759ce041"
      },
      "execution_count": 5,
      "outputs": [
        {
          "output_type": "execute_result",
          "data": {
            "text/plain": [
              "3"
            ]
          },
          "metadata": {},
          "execution_count": 5
        }
      ]
    },
    {
      "cell_type": "code",
      "source": [
        "4 * 3 # Multiplication"
      ],
      "metadata": {
        "colab": {
          "base_uri": "https://localhost:8080/"
        },
        "id": "s5tv4sFVmmlN",
        "outputId": "96fb75ee-4680-4303-e927-b044ddc5acca"
      },
      "execution_count": 6,
      "outputs": [
        {
          "output_type": "execute_result",
          "data": {
            "text/plain": [
              "12"
            ]
          },
          "metadata": {},
          "execution_count": 6
        }
      ]
    },
    {
      "cell_type": "code",
      "source": [
        "8 / 2 # Division"
      ],
      "metadata": {
        "colab": {
          "base_uri": "https://localhost:8080/"
        },
        "id": "OpT6zIcwmpiT",
        "outputId": "58cf026b-020c-4f1b-f065-95e3868976ef"
      },
      "execution_count": 7,
      "outputs": [
        {
          "output_type": "execute_result",
          "data": {
            "text/plain": [
              "4.0"
            ]
          },
          "metadata": {},
          "execution_count": 7
        }
      ]
    },
    {
      "cell_type": "code",
      "source": [
        "# This is our script should be stored in a .py file\n",
        "def greet(name):\n",
        "  return f'Hello, {name}!'\n",
        "\n",
        "# calling the function\n",
        "greeting = greet(\"Py AI Labs\")\n",
        "print(greeting)"
      ],
      "metadata": {
        "colab": {
          "base_uri": "https://localhost:8080/"
        },
        "id": "f2tp2YCcmsL5",
        "outputId": "63bc4433-28cf-4527-a42b-0e57d2a7c373"
      },
      "execution_count": 8,
      "outputs": [
        {
          "output_type": "stream",
          "name": "stdout",
          "text": [
            "Hello, Py AI Labs!\n"
          ]
        }
      ]
    },
    {
      "cell_type": "code",
      "source": [
        "print(greet(\"Colab user\"))"
      ],
      "metadata": {
        "colab": {
          "base_uri": "https://localhost:8080/"
        },
        "id": "Vu00oNxcnem0",
        "outputId": "982ff7ef-ac3d-4c08-a17e-07c60f18bd9b"
      },
      "execution_count": 9,
      "outputs": [
        {
          "output_type": "stream",
          "name": "stdout",
          "text": [
            "Hello, Colab user!\n"
          ]
        }
      ]
    },
    {
      "cell_type": "markdown",
      "source": [
        "# Basic data types : Numbers, String, List, Dict, Tuples, files, setc etc"
      ],
      "metadata": {
        "id": "ID4RZKhXoNaG"
      }
    },
    {
      "cell_type": "code",
      "source": [
        "# integer\n",
        "a = 5"
      ],
      "metadata": {
        "id": "P_75eE6TnshO"
      },
      "execution_count": 10,
      "outputs": []
    },
    {
      "cell_type": "code",
      "source": [
        "type(a)"
      ],
      "metadata": {
        "colab": {
          "base_uri": "https://localhost:8080/"
        },
        "id": "z9xuGHUWoTR_",
        "outputId": "38a32682-79a8-44d8-9c02-68542e44a934"
      },
      "execution_count": 11,
      "outputs": [
        {
          "output_type": "execute_result",
          "data": {
            "text/plain": [
              "int"
            ]
          },
          "metadata": {},
          "execution_count": 11
        }
      ]
    },
    {
      "cell_type": "code",
      "source": [
        "b = 3.142 # Float"
      ],
      "metadata": {
        "id": "7nLiAYWfoUsI"
      },
      "execution_count": 12,
      "outputs": []
    },
    {
      "cell_type": "code",
      "source": [
        "type(b)"
      ],
      "metadata": {
        "colab": {
          "base_uri": "https://localhost:8080/"
        },
        "id": "MmnlOvGHoZa4",
        "outputId": "32363952-a93c-48a7-c724-a26260c45d47"
      },
      "execution_count": 13,
      "outputs": [
        {
          "output_type": "execute_result",
          "data": {
            "text/plain": [
              "float"
            ]
          },
          "metadata": {},
          "execution_count": 13
        }
      ]
    },
    {
      "cell_type": "code",
      "source": [
        "c = \"Hello, Python ...!!!!\""
      ],
      "metadata": {
        "id": "n3E73EIooatJ"
      },
      "execution_count": 14,
      "outputs": []
    },
    {
      "cell_type": "code",
      "source": [
        "type(c)"
      ],
      "metadata": {
        "colab": {
          "base_uri": "https://localhost:8080/"
        },
        "id": "OIogF5iDofka",
        "outputId": "93765a2e-5ae7-4017-de84-81e6d6685508"
      },
      "execution_count": 15,
      "outputs": [
        {
          "output_type": "execute_result",
          "data": {
            "text/plain": [
              "str"
            ]
          },
          "metadata": {},
          "execution_count": 15
        }
      ]
    },
    {
      "cell_type": "code",
      "source": [
        "# bool\n",
        "d = True"
      ],
      "metadata": {
        "id": "yFCs9gthoh75"
      },
      "execution_count": 16,
      "outputs": []
    },
    {
      "cell_type": "code",
      "source": [
        "type(d)"
      ],
      "metadata": {
        "colab": {
          "base_uri": "https://localhost:8080/"
        },
        "id": "-oWWOQ0Oovze",
        "outputId": "78a81d32-f03c-4101-a9a4-37ed0478424e"
      },
      "execution_count": 17,
      "outputs": [
        {
          "output_type": "execute_result",
          "data": {
            "text/plain": [
              "bool"
            ]
          },
          "metadata": {},
          "execution_count": 17
        }
      ]
    },
    {
      "cell_type": "markdown",
      "source": [
        "Indentation"
      ],
      "metadata": {
        "id": "Aw1neJmwo9FU"
      }
    },
    {
      "cell_type": "code",
      "source": [
        "# Proper indentation\n",
        "if True:\n",
        "  print(\"This is correctly indented\")\n",
        "  if True:\n",
        "    print(\"This is also correctly indented\")"
      ],
      "metadata": {
        "colab": {
          "base_uri": "https://localhost:8080/"
        },
        "id": "c6k4pzmfowpZ",
        "outputId": "d5e9caa6-aa41-43bc-bfac-79b0f671fc65"
      },
      "execution_count": 18,
      "outputs": [
        {
          "output_type": "stream",
          "name": "stdout",
          "text": [
            "This is correctly indented\n",
            "This is also correctly indented\n"
          ]
        }
      ]
    },
    {
      "cell_type": "code",
      "source": [
        "# Proper indentation\n",
        "if True:\n",
        "  print(\"This is correctly indented\")\n",
        "  if True:\n",
        "    print(\"This is also correctly indented\")"
      ],
      "metadata": {
        "colab": {
          "base_uri": "https://localhost:8080/"
        },
        "id": "4imqdNf9pMsH",
        "outputId": "22b494a7-a64f-4918-ba64-670605e9d5c4"
      },
      "execution_count": 20,
      "outputs": [
        {
          "output_type": "stream",
          "name": "stdout",
          "text": [
            "This is correctly indented\n",
            "This is also correctly indented\n"
          ]
        }
      ]
    },
    {
      "cell_type": "markdown",
      "source": [
        "# Comments and Docstring"
      ],
      "metadata": {
        "id": "lAdOPK7ApeGR"
      }
    },
    {
      "cell_type": "code",
      "source": [
        "# => this is for single lnie comment"
      ],
      "metadata": {
        "id": "fqJbjRPNpVI1"
      },
      "execution_count": 21,
      "outputs": []
    },
    {
      "cell_type": "code",
      "source": [
        "\"\"\"\n",
        "This is a mult line comment\n",
        "or a docstring\n",
        "\"\"\""
      ],
      "metadata": {
        "colab": {
          "base_uri": "https://localhost:8080/",
          "height": 36
        },
        "id": "_YPjRIOiptjQ",
        "outputId": "51fd57c6-ce7e-4054-c61d-844ec6a73264"
      },
      "execution_count": 22,
      "outputs": [
        {
          "output_type": "execute_result",
          "data": {
            "text/plain": [
              "'\\nThis is a mult line comment \\nor a docstring\\n'"
            ],
            "application/vnd.google.colaboratory.intrinsic+json": {
              "type": "string"
            }
          },
          "metadata": {},
          "execution_count": 22
        }
      ]
    },
    {
      "cell_type": "code",
      "source": [
        "def example_function():\n",
        "  \"\"\"\n",
        "  This is a docstring for the example_function.\n",
        "  It explains what the function does.\n",
        "  \"\"\"\n",
        "  return(\"This is a demo function for docstring\")"
      ],
      "metadata": {
        "id": "HOQdBA6gp6fh"
      },
      "execution_count": 24,
      "outputs": []
    },
    {
      "cell_type": "code",
      "source": [
        "print(example_function())"
      ],
      "metadata": {
        "colab": {
          "base_uri": "https://localhost:8080/"
        },
        "id": "U8tIsY_hqIKr",
        "outputId": "91812dbe-5947-4fc2-f8d5-e6227779b7d0"
      },
      "execution_count": 26,
      "outputs": [
        {
          "output_type": "stream",
          "name": "stdout",
          "text": [
            "This is a demo function for docstring\n"
          ]
        }
      ]
    },
    {
      "cell_type": "code",
      "source": [],
      "metadata": {
        "id": "Iyff8P4gqVCn"
      },
      "execution_count": null,
      "outputs": []
    }
  ]
}